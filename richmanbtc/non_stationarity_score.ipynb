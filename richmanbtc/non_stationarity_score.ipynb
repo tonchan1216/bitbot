{
 "cells": [
  {
   "cell_type": "code",
   "execution_count": 1,
   "metadata": {},
   "outputs": [],
   "source": [
    "import lightgbm as lgb\n",
    "import matplotlib.pyplot as plt\n",
    "import numpy as np\n",
    "import pandas as pd\n",
    "import seaborn as sns\n",
    "\n",
    "from sklearn.ensemble import BaggingRegressor\n",
    "from sklearn.linear_model import RidgeCV\n",
    "from sklearn.model_selection import cross_val_score, KFold, TimeSeriesSplit\n"
   ]
  },
  {
   "cell_type": "code",
   "execution_count": 2,
   "metadata": {},
   "outputs": [],
   "source": [
    "features = sorted([\n",
    "    'ADX',\n",
    "    'ADXR',\n",
    "    'APO',\n",
    "    'AROON_aroondown',\n",
    "    'AROON_aroonup',\n",
    "    'AROONOSC',\n",
    "    'CCI',\n",
    "    'DX',\n",
    "    'MACD_macd',\n",
    "    'MACD_macdsignal',\n",
    "    'MACD_macdhist',\n",
    "    'MFI',\n",
    "    'MINUS_DI',\n",
    "    'MINUS_DM',\n",
    "    'MOM',\n",
    "    'PLUS_DI',\n",
    "    'PLUS_DM',\n",
    "    'RSI',\n",
    "    'STOCH_slowk',\n",
    "    'STOCH_slowd',\n",
    "    'STOCHF_fastk',\n",
    "    'STOCHRSI_fastd',\n",
    "    'ULTOSC',\n",
    "    'WILLR',\n",
    "    'ADOSC',\n",
    "    'NATR',\n",
    "    'HT_DCPERIOD',\n",
    "    'HT_DCPHASE',\n",
    "    'HT_PHASOR_inphase',\n",
    "    'HT_PHASOR_quadrature',\n",
    "    'HT_TRENDMODE',\n",
    "    'BETA',\n",
    "    'LINEARREG',\n",
    "    'LINEARREG_ANGLE',\n",
    "    'LINEARREG_INTERCEPT',\n",
    "    'LINEARREG_SLOPE',\n",
    "    'STDDEV',\n",
    "    'BBANDS_upperband',\n",
    "    'BBANDS_middleband',\n",
    "    'BBANDS_lowerband',\n",
    "    'DEMA',\n",
    "    'EMA',\n",
    "    'HT_TRENDLINE',\n",
    "    'KAMA',\n",
    "    'MA',\n",
    "    'MIDPOINT',\n",
    "    'T3',\n",
    "    'TEMA',\n",
    "    'TRIMA',\n",
    "    'WMA',\n",
    "])\n",
    "\n",
    "# features = ['ADX', 'ADXR', 'AROONOSC', 'AROON_aroondown', 'AROON_aroonup', 'BETA', 'CCI', 'DX', 'HT_DCPERIOD', 'HT_TRENDMODE', 'MFI', 'RSI', 'STOCHF_fastk', 'STOCH_slowd', 'STOCH_slowk', 'ULTOSC', 'WILLR']"
   ]
  },
  {
   "cell_type": "code",
   "execution_count": 3,
   "metadata": {},
   "outputs": [
    {
     "name": "stdout",
     "output_type": "stream",
     "text": [
      "dfは特徴量が入ったDataFrame\n",
      "featuresは使う特徴量カラム名配列\n",
      "重要度表示。重要度が高いものは汎化性能に悪影響を与える可能性がある\n"
     ]
    },
    {
     "ename": "AttributeError",
     "evalue": "'BaggingRegressor' object has no attribute 'feature_importances_'",
     "output_type": "error",
     "traceback": [
      "\u001b[0;31m---------------------------------------------------------------------------\u001b[0m",
      "\u001b[0;31mAttributeError\u001b[0m                            Traceback (most recent call last)",
      "\u001b[1;32m/home/tohn/bitbot/richmanbtc/non_stationarity_score.ipynb Cell 3'\u001b[0m in \u001b[0;36m<cell line: 11>\u001b[0;34m()\u001b[0m\n\u001b[1;32m     <a href='vscode-notebook-cell://wsl%2Bubuntu/home/tohn/bitbot/richmanbtc/non_stationarity_score.ipynb#ch0000002vscode-remote?line=9'>10</a>\u001b[0m \u001b[39mwhile\u001b[39;00m \u001b[39mTrue\u001b[39;00m:\n\u001b[1;32m     <a href='vscode-notebook-cell://wsl%2Bubuntu/home/tohn/bitbot/richmanbtc/non_stationarity_score.ipynb#ch0000002vscode-remote?line=10'>11</a>\u001b[0m   model\u001b[39m.\u001b[39mfit(df[features], np\u001b[39m.\u001b[39marange(df\u001b[39m.\u001b[39mshape[\u001b[39m0\u001b[39m]))\n\u001b[0;32m---> <a href='vscode-notebook-cell://wsl%2Bubuntu/home/tohn/bitbot/richmanbtc/non_stationarity_score.ipynb#ch0000002vscode-remote?line=11'>12</a>\u001b[0m   lgbm_adv_importance \u001b[39m=\u001b[39m model\u001b[39m.\u001b[39;49mfeature_importances_\n\u001b[1;32m     <a href='vscode-notebook-cell://wsl%2Bubuntu/home/tohn/bitbot/richmanbtc/non_stationarity_score.ipynb#ch0000002vscode-remote?line=12'>13</a>\u001b[0m   feature_imp \u001b[39m=\u001b[39m pd\u001b[39m.\u001b[39mDataFrame(\u001b[39msorted\u001b[39m(\u001b[39mzip\u001b[39m(model\u001b[39m.\u001b[39mfeature_importances_, features)), columns\u001b[39m=\u001b[39m[\u001b[39m'\u001b[39m\u001b[39mValue\u001b[39m\u001b[39m'\u001b[39m,\u001b[39m'\u001b[39m\u001b[39mFeature\u001b[39m\u001b[39m'\u001b[39m])\n\u001b[1;32m     <a href='vscode-notebook-cell://wsl%2Bubuntu/home/tohn/bitbot/richmanbtc/non_stationarity_score.ipynb#ch0000002vscode-remote?line=14'>15</a>\u001b[0m   cv \u001b[39m=\u001b[39m KFold(n_splits\u001b[39m=\u001b[39m\u001b[39m2\u001b[39m, shuffle\u001b[39m=\u001b[39m\u001b[39mTrue\u001b[39;00m, random_state\u001b[39m=\u001b[39m\u001b[39m0\u001b[39m)\n",
      "\u001b[0;31mAttributeError\u001b[0m: 'BaggingRegressor' object has no attribute 'feature_importances_'"
     ]
    }
   ],
   "source": [
    "df = pd.read_pickle('df_features.pkl')\n",
    "\n",
    "print('dfは特徴量が入ったDataFrame')\n",
    "print('featuresは使う特徴量カラム名配列')\n",
    "\n",
    "print('重要度表示。重要度が高いものは汎化性能に悪影響を与える可能性がある')\n",
    "model = lgb.LGBMRegressor(n_jobs=-1, random_state=1)\n",
    "\n",
    "while True:\n",
    "  model.fit(df[features], np.arange(df.shape[0]))\n",
    "  lgbm_adv_importance = model.feature_importances_\n",
    "  feature_imp = pd.DataFrame(sorted(zip(model.feature_importances_, features)), columns=['Value','Feature'])\n",
    "\n",
    "  cv = KFold(n_splits=2, shuffle=True, random_state=0)\n",
    "  scores = cross_val_score(model, df[features], np.arange(df.shape[0]), scoring='r2', cv=cv)\n",
    "  print(scores)\n",
    "  if scores[0] < 0.3 and scores[1] < 0.3:\n",
    "    break\n",
    "  else:\n",
    "    print(\"delete: \",feature_imp.iloc[-1,1])\n",
    "    features.remove(feature_imp.iloc[-1,1])\n",
    "\n",
    "model.fit(df[features], np.arange(df.shape[0]))\n",
    "lgbm_adv_importance = model.feature_importances_\n",
    "feature_imp = pd.DataFrame(sorted(zip(model.feature_importances_, features)), columns=['Value','Feature'])\n",
    "print(features)\n",
    "plt.figure(figsize=(20, 40))\n",
    "sns.barplot(x=\"Value\", y=\"Feature\", data=feature_imp.sort_values(by=\"Value\", ascending=False))\n",
    "plt.title('LightGBM Features adv val (avg over folds)')\n",
    "plt.tight_layout()\n",
    "plt.show()\n",
    "\n",
    "print('スコア計算。スコアが高いと汎化性能が悪い可能性ある (目安は0.3以下)')\n",
    "cv = KFold(n_splits=2, shuffle=True, random_state=0)\n",
    "scores = cross_val_score(model, df[features], np.arange(df.shape[0]), scoring='r2', cv=cv)\n",
    "print('scores', scores)\n",
    "print('score mean, std', np.mean(scores), np.std(scores))\n"
   ]
  }
 ],
 "metadata": {
  "interpreter": {
   "hash": "31f2aee4e71d21fbe5cf8b01ff0e069b9275f58929596ceb00d14d90e3e16cd6"
  },
  "kernelspec": {
   "display_name": "Python 3.8.0 64-bit",
   "language": "python",
   "name": "python3"
  },
  "language_info": {
   "codemirror_mode": {
    "name": "ipython",
    "version": 3
   },
   "file_extension": ".py",
   "mimetype": "text/x-python",
   "name": "python",
   "nbconvert_exporter": "python",
   "pygments_lexer": "ipython3",
   "version": "3.8.0"
  },
  "orig_nbformat": 4
 },
 "nbformat": 4,
 "nbformat_minor": 2
}
