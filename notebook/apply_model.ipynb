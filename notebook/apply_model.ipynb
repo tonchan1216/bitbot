{
  "nbformat": 4,
  "nbformat_minor": 0,
  "metadata": {
    "colab": {
      "name": "apply_model.ipynb",
      "provenance": [],
      "authorship_tag": "ABX9TyMiy5zZv9WPeQzlepk98IxT",
      "include_colab_link": true
    },
    "kernelspec": {
      "name": "python3",
      "display_name": "Python 3"
    },
    "language_info": {
      "name": "python"
    }
  },
  "cells": [
    {
      "cell_type": "markdown",
      "metadata": {
        "id": "view-in-github",
        "colab_type": "text"
      },
      "source": [
        "<a href=\"https://colab.research.google.com/github/tonchan1216/bitbot/blob/master/apply_model.ipynb\" target=\"_parent\"><img src=\"https://colab.research.google.com/assets/colab-badge.svg\" alt=\"Open In Colab\"/></a>"
      ]
    },
    {
      "cell_type": "code",
      "execution_count": 17,
      "metadata": {
        "id": "6TsbM0hHShE3"
      },
      "outputs": [],
      "source": [
        "import pandas as pd\n",
        "import numpy as np\n",
        "import random\n",
        "from google.colab import drive\n",
        "import copy\n",
        "import math\n",
        "\n",
        "from datetime import datetime\n",
        "import pickle\n",
        "\n",
        "from tensorflow.keras.models import Sequential\n",
        "from tensorflow.keras.layers import Dense, ReLU\n",
        "from tensorflow.keras.optimizers import RMSprop\n",
        "from sklearn.preprocessing import StandardScaler"
      ]
    },
    {
      "cell_type": "code",
      "source": [
        "class Brain:\n",
        "    def __init__(self):\n",
        "        optimizer = RMSprop()\n",
        "\n",
        "        model = Sequential()\n",
        "        model.add(Dense(3, input_shape=(3,)))\n",
        "        model.add(ReLU()) \n",
        "        model.add(Dense(3))\n",
        "        model.add(ReLU())\n",
        "        model.add(Dense(3))\n",
        "        model.compile(loss=\"mse\", optimizer=optimizer)\n",
        "        self.model = model\n",
        "\n",
        "    def predict(self, state):\n",
        "        return self.model.predict(state)\n",
        "\n",
        "    def load(self, name):\n",
        "        self.model.load_weights(name)"
      ],
      "metadata": {
        "id": "Pe22pyOAS71Q"
      },
      "execution_count": 19,
      "outputs": []
    },
    {
      "cell_type": "code",
      "source": [
        "class Agent(Brain):\n",
        "    def __init__(self):\n",
        "        super().__init__()\n",
        "        self.epsilon = 0.01\n",
        "\n",
        "    def act(self, state):\n",
        "        if np.random.rand() <= self.epsilon:\n",
        "            return np.random.choice(3)\n",
        "        act_values = self.predict(state)\n",
        "        return np.argmax(act_values[0])"
      ],
      "metadata": {
        "id": "d1WSTBmmS4Cl"
      },
      "execution_count": 20,
      "outputs": []
    },
    {
      "cell_type": "code",
      "source": [
        "def get_now_state():\n",
        "    state = np.empty(3)\n",
        "    state[0] = 0 ## 保有するポジション\n",
        "    state[1] = 0 ## 現在のレート\n",
        "    state[2] = 0 ## 保有する日本円現金\n",
        "    return state\n",
        "\n",
        "def trade(action):\n",
        "    # 買い\n",
        "    if action_space[0] == action and hold_a_position == 0:\n",
        "          before_buy_cash = copy.copy(cash_in_hand)\n",
        "          if cash_in_hand < now_price * min_trade_btc + commission * now_price:\n",
        "            return\n",
        "\n",
        "          hold_a_position = math.floor(((cash_in_hand/now_price) - commission) * 10000) / 10000 \n",
        "          buy_price += now_price * hold_a_position\n",
        "          cash_in_hand -= now_price * hold_a_position + commission * now_price\n",
        "    # 売り\n",
        "    if action_space[2] == action and hold_a_position != 0:\n",
        "          sell_price += now_price * hold_a_position\n",
        "          cash_in_hand += now_price * hold_a_position - commission * now_price\n",
        "          hold_a_position = 0\n",
        "          trade_time += 1\n",
        "          if cash_in_hand > before_buy_cash:\n",
        "              trade_win += 1"
      ],
      "metadata": {
        "id": "fYmjb8z_Wa95"
      },
      "execution_count": 21,
      "outputs": []
    },
    {
      "cell_type": "code",
      "source": [
        "name = 'qlearning'\n",
        "drive.mount('/content/drive/')\n",
        "mdl_dir = '/content/drive/My Drive/Colab Notebooks/models'\n",
        "\n",
        "agent = Agent()\n",
        "with open('{}/{}.pkl'.format(mdl_dir, name), 'rb') as f:\n",
        "    scaler = pickle.load(f)\n",
        "agent.load('{}/{}.h5'.format(mdl_dir, name))\n",
        "state = scaler.transform([get_now_state()])\n",
        "action = agent.act(state)\n",
        "# trade(action)\n",
        "print(action)"
      ],
      "metadata": {
        "colab": {
          "base_uri": "https://localhost:8080/"
        },
        "id": "Y3pAvCK5TO4p",
        "outputId": "cffc3122-c666-4fac-92cc-898d9c7a8e01"
      },
      "execution_count": 22,
      "outputs": [
        {
          "output_type": "stream",
          "name": "stdout",
          "text": [
            "Drive already mounted at /content/drive/; to attempt to forcibly remount, call drive.mount(\"/content/drive/\", force_remount=True).\n",
            "0\n"
          ]
        }
      ]
    }
  ]
}