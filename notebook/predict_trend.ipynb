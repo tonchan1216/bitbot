{
  "nbformat": 4,
  "nbformat_minor": 0,
  "metadata": {
    "colab": {
      "name": "predict_trend.ipynb",
      "provenance": [],
      "collapsed_sections": [],
      "authorship_tag": "ABX9TyNGL15+2672Io3nJqPPALWj",
      "include_colab_link": true
    },
    "kernelspec": {
      "name": "python3",
      "display_name": "Python 3"
    },
    "language_info": {
      "name": "python"
    },
    "accelerator": "GPU"
  },
  "cells": [
    {
      "cell_type": "markdown",
      "metadata": {
        "id": "view-in-github",
        "colab_type": "text"
      },
      "source": [
        "<a href=\"https://colab.research.google.com/github/tonchan1216/bitbot/blob/master/notebook/predict_trend.ipynb\" target=\"_parent\"><img src=\"https://colab.research.google.com/assets/colab-badge.svg\" alt=\"Open In Colab\"/></a>"
      ]
    },
    {
      "cell_type": "code",
      "execution_count": 13,
      "metadata": {
        "id": "R07gikIEqMoD"
      },
      "outputs": [],
      "source": [
        "from google.colab import drive\n",
        "import pandas as pd\n",
        "import numpy as np\n",
        "import matplotlib.pyplot as plt\n",
        "\n",
        "from tensorflow.keras.models import Sequential\n",
        "from tensorflow.keras.layers import Dense, LSTM, Dropout\n",
        "from tensorflow.keras.optimizers import Adam, Nadam\n",
        "from tensorflow.keras.utils import plot_model\n",
        "from tensorflow.keras.callbacks import EarlyStopping\n",
        "import tensorflow.lite as tflite\n",
        "\n",
        "from IPython.display import Image\n",
        "from sklearn.model_selection import train_test_split"
      ]
    },
    {
      "cell_type": "markdown",
      "source": [
        "## データの読み込み\n",
        "\n",
        "対象データ: BTC/JPYのレートにおける各日の終値\n",
        "\n",
        "対象期間：20215 1/1 - 2020 12/30\n",
        "\n",
        "データソース：Cryptowatch"
      ],
      "metadata": {
        "id": "JWieY7BIxjce"
      }
    },
    {
      "cell_type": "code",
      "source": [
        "drive.mount('/content/drive/')\n",
        "\n",
        "base_path = '/content/drive/My Drive/Colab Notebooks/bitbot/training_data/'\n",
        "train_data = pd.read_csv(base_path + 'btc_all.csv')"
      ],
      "metadata": {
        "colab": {
          "base_uri": "https://localhost:8080/"
        },
        "id": "deL49Oq8qczs",
        "outputId": "c9f418d4-f377-4f0d-8817-205b2e87b297"
      },
      "execution_count": 2,
      "outputs": [
        {
          "output_type": "stream",
          "name": "stdout",
          "text": [
            "Mounted at /content/drive/\n"
          ]
        }
      ]
    },
    {
      "cell_type": "markdown",
      "source": [
        "## 前処理\n",
        "\n",
        "### INPUT\n",
        "\n",
        "BTCのレートが格納されたDataframe\n",
        "\n",
        "### Parameter\n",
        "\n",
        "shift: (入力となる日数: 7) + (トレンドを予測する日数: 1)\n",
        "\n",
        "threashold: OUTPUTを判定する閾値\n",
        "\n",
        "### OUTPUT\n",
        "\n",
        "- 上昇率N％以上で、上昇\n",
        "- 下降率N％以下で、下降\n",
        "- それ以外は停滞"
      ],
      "metadata": {
        "id": "6MwqVfwRxhUR"
      }
    },
    {
      "cell_type": "code",
      "source": [
        "def process(input_df, shift = 8, threshold = 0.02):\n",
        "  ## データを一週間分シフト\n",
        "  x = pd.concat([input_df.shift(-1*i) for i in range(shift)], axis=1)\n",
        "  x = x.dropna()\n",
        "  x = x.set_axis([str(i-6) for i in range(shift)], axis=1)\n",
        "\n",
        "  ## 変動率の算出\n",
        "  change_rate = (x['1'] - x['0']) / x['0']\n",
        "\n",
        "  ## データの標準化\n",
        "  m = np.array(x.mean(axis='columns'))\n",
        "  s = np.array(x.std(axis='columns'))\n",
        "  x = x.sub(m, axis=0).div(s, axis=0)\n",
        "\n",
        "  ## 正解データの作成\n",
        "  y = pd.DataFrame({'up': np.zeros(len(x)), 'down': np.zeros(len(x)), 'even': np.zeros(len(x))})\n",
        "  y.loc[change_rate > threshold, 'up'] = 1 # 上昇トレンド\n",
        "  y.loc[change_rate < -threshold, 'down'] = 1 # 下降トレンド\n",
        "  y.loc[(change_rate <= threshold) & (change_rate >= -threshold), 'even'] = 1 # 停滞トレンド\n",
        "\n",
        "  x = x.drop('1',axis=1)\n",
        "  return np.array(x), np.array(y)\n",
        "\n",
        "reference_day = 7\n",
        "input_tensor, label_tensor = process(train_data['BTC'], shift = reference_day + 1, threshold = 0.01)\n",
        "train_x, test_x, train_y, test_y = train_test_split(input_tensor, label_tensor, test_size=0.2, random_state=100, shuffle = True)\n",
        "\n",
        "print('train data num: ', train_x.shape[0])\n",
        "print(np.count_nonzero(train_y == 1, axis=0))\n",
        "\n",
        "print('test data num: ', test_x.shape[0])\n",
        "print(np.count_nonzero(test_y == 1, axis=0))"
      ],
      "metadata": {
        "colab": {
          "base_uri": "https://localhost:8080/"
        },
        "id": "Q31TzI-eq8o3",
        "outputId": "bdc331e0-090a-4ff2-fd98-f96afa517193"
      },
      "execution_count": 3,
      "outputs": [
        {
          "output_type": "stream",
          "name": "stdout",
          "text": [
            "train data num:  1897\n",
            "[665 533 699]\n",
            "test data num:  475\n",
            "[173 132 170]\n"
          ]
        }
      ]
    },
    {
      "cell_type": "markdown",
      "source": [
        "## Model構築\n",
        "\n",
        "LSTMを使ったニューラルネットワーク"
      ],
      "metadata": {
        "id": "O-wQ17Yz5DBj"
      }
    },
    {
      "cell_type": "code",
      "source": [
        "optimizer = Nadam()\n",
        "\n",
        "model = Sequential()\n",
        "## 入力層\n",
        "model.add(LSTM(reference_day,\n",
        "             dropout=0.2,\n",
        "             recurrent_dropout=0,\n",
        "             input_shape=(reference_day,1)))\n",
        "## 中間層(なし)\n",
        "# model.add(Dropout(0.2))\n",
        "# model.add(Dense(5, activation='relu'))\n",
        "## 出力層\n",
        "model.add(Dense(3, activation='softmax'))\n",
        "model.compile(optimizer=optimizer,\n",
        "           loss='categorical_crossentropy',\n",
        "           metrics=['acc'])\n",
        "\n",
        "print(model.summary())\n",
        "plot_model(model, to_file='model.png', show_shapes=True)\n",
        "Image('model.png')"
      ],
      "metadata": {
        "colab": {
          "base_uri": "https://localhost:8080/",
          "height": 564
        },
        "id": "Grp4dhIx3k-B",
        "outputId": "74d6813c-959b-4c12-acf9-19a943fbf60d"
      },
      "execution_count": 4,
      "outputs": [
        {
          "output_type": "stream",
          "name": "stdout",
          "text": [
            "Model: \"sequential\"\n",
            "_________________________________________________________________\n",
            " Layer (type)                Output Shape              Param #   \n",
            "=================================================================\n",
            " lstm (LSTM)                 (None, 7)                 252       \n",
            "                                                                 \n",
            " dense (Dense)               (None, 3)                 24        \n",
            "                                                                 \n",
            "=================================================================\n",
            "Total params: 276\n",
            "Trainable params: 276\n",
            "Non-trainable params: 0\n",
            "_________________________________________________________________\n",
            "None\n"
          ]
        },
        {
          "output_type": "execute_result",
          "data": {
            "image/png": "[encoded data removed]",
            "text/plain": [
              "<IPython.core.display.Image object>"
            ]
          },
          "metadata": {},
          "execution_count": 4
        }
      ]
    },
    {
      "cell_type": "markdown",
      "source": [
        "## 学習\n",
        "\n",
        "過学習を防ぐために、EarlyStoppingを定義\n",
        "\n",
        "学習中の検証結果を出力"
      ],
      "metadata": {
        "id": "ldFi_S1N6F6a"
      }
    },
    {
      "cell_type": "code",
      "source": [
        "earlystopping = EarlyStopping(monitor='loss', patience=5)\n",
        "\n",
        "history = model.fit(train_x, train_y,\n",
        " batch_size=10,\n",
        " epochs=100,\n",
        " callbacks=[earlystopping],\n",
        " verbose=1,\n",
        " validation_data=(test_x, test_y))"
      ],
      "metadata": {
        "id": "jXOKPxQ_55-q",
        "colab": {
          "base_uri": "https://localhost:8080/"
        },
        "outputId": "47d4b6d0-4116-4ae7-ecb6-f4be3cff34b6"
      },
      "execution_count": 5,
      "outputs": [
        {
          "output_type": "stream",
          "name": "stdout",
          "text": [
            "Epoch 1/100\n",
            "190/190 [==============================] - 7s 11ms/step - loss: 1.0840 - acc: 0.3917 - val_loss: 1.0594 - val_acc: 0.4463\n",
            "Epoch 2/100\n",
            "190/190 [==============================] - 1s 8ms/step - loss: 1.0455 - acc: 0.4602 - val_loss: 1.0004 - val_acc: 0.4989\n",
            "Epoch 3/100\n",
            "190/190 [==============================] - 1s 8ms/step - loss: 1.0157 - acc: 0.4860 - val_loss: 0.9608 - val_acc: 0.6253\n",
            "Epoch 4/100\n",
            "190/190 [==============================] - 1s 8ms/step - loss: 0.9997 - acc: 0.5029 - val_loss: 0.9289 - val_acc: 0.6126\n",
            "Epoch 5/100\n",
            "190/190 [==============================] - 1s 7ms/step - loss: 0.9839 - acc: 0.5008 - val_loss: 0.9063 - val_acc: 0.6000\n",
            "Epoch 6/100\n",
            "190/190 [==============================] - 1s 8ms/step - loss: 0.9857 - acc: 0.5076 - val_loss: 0.8978 - val_acc: 0.6295\n",
            "Epoch 7/100\n",
            "190/190 [==============================] - 2s 8ms/step - loss: 0.9911 - acc: 0.4955 - val_loss: 0.8946 - val_acc: 0.6400\n",
            "Epoch 8/100\n",
            "190/190 [==============================] - 1s 8ms/step - loss: 0.9819 - acc: 0.5245 - val_loss: 0.8858 - val_acc: 0.6505\n",
            "Epoch 9/100\n",
            "190/190 [==============================] - 1s 8ms/step - loss: 0.9799 - acc: 0.5108 - val_loss: 0.8833 - val_acc: 0.6463\n",
            "Epoch 10/100\n",
            "190/190 [==============================] - 1s 8ms/step - loss: 0.9741 - acc: 0.5119 - val_loss: 0.8741 - val_acc: 0.6589\n",
            "Epoch 11/100\n",
            "190/190 [==============================] - 1s 8ms/step - loss: 0.9734 - acc: 0.5150 - val_loss: 0.8696 - val_acc: 0.6589\n",
            "Epoch 12/100\n",
            "190/190 [==============================] - 1s 8ms/step - loss: 0.9660 - acc: 0.5409 - val_loss: 0.8699 - val_acc: 0.6063\n",
            "Epoch 13/100\n",
            "190/190 [==============================] - 1s 8ms/step - loss: 0.9617 - acc: 0.5467 - val_loss: 0.8571 - val_acc: 0.6779\n",
            "Epoch 14/100\n",
            "190/190 [==============================] - 1s 8ms/step - loss: 0.9723 - acc: 0.5419 - val_loss: 0.8603 - val_acc: 0.6653\n",
            "Epoch 15/100\n",
            "190/190 [==============================] - 1s 8ms/step - loss: 0.9606 - acc: 0.5414 - val_loss: 0.8564 - val_acc: 0.6695\n",
            "Epoch 16/100\n",
            "190/190 [==============================] - 1s 8ms/step - loss: 0.9447 - acc: 0.5514 - val_loss: 0.8536 - val_acc: 0.6042\n",
            "Epoch 17/100\n",
            "190/190 [==============================] - 1s 8ms/step - loss: 0.9600 - acc: 0.5498 - val_loss: 0.8420 - val_acc: 0.6653\n",
            "Epoch 18/100\n",
            "190/190 [==============================] - 1s 8ms/step - loss: 0.9391 - acc: 0.5656 - val_loss: 0.8483 - val_acc: 0.6021\n",
            "Epoch 19/100\n",
            "190/190 [==============================] - 2s 9ms/step - loss: 0.9679 - acc: 0.5424 - val_loss: 0.8434 - val_acc: 0.6611\n",
            "Epoch 20/100\n",
            "190/190 [==============================] - 2s 8ms/step - loss: 0.9551 - acc: 0.5546 - val_loss: 0.8434 - val_acc: 0.6400\n",
            "Epoch 21/100\n",
            "190/190 [==============================] - 2s 9ms/step - loss: 0.9413 - acc: 0.5609 - val_loss: 0.8311 - val_acc: 0.6589\n",
            "Epoch 22/100\n",
            "190/190 [==============================] - 1s 8ms/step - loss: 0.9455 - acc: 0.5509 - val_loss: 0.8382 - val_acc: 0.6421\n",
            "Epoch 23/100\n",
            "190/190 [==============================] - 1s 8ms/step - loss: 0.9427 - acc: 0.5630 - val_loss: 0.8323 - val_acc: 0.6484\n"
          ]
        }
      ]
    },
    {
      "cell_type": "markdown",
      "source": [
        "## 可視化"
      ],
      "metadata": {
        "id": "p0FMDgwZER5W"
      }
    },
    {
      "cell_type": "code",
      "source": [
        "# Plot training & validation accuracy values\n",
        "plt.plot(history.history['acc'])\n",
        "plt.plot(history.history['val_acc'])\n",
        "plt.title('Model accuracy')\n",
        "plt.ylabel('Accuracy')\n",
        "plt.xlabel('Epoch')\n",
        "plt.legend(['Train', 'Test'], loc='upper left')\n",
        "plt.show()\n",
        "\n",
        "# Plot training & validation loss values\n",
        "plt.plot(history.history['loss'])\n",
        "plt.plot(history.history['val_loss'])\n",
        "plt.title('Model loss')\n",
        "plt.ylabel('Loss')\n",
        "plt.xlabel('Epoch')\n",
        "plt.legend(['Train', 'Test'], loc='upper left')\n",
        "plt.show()"
      ],
      "metadata": {
        "colab": {
          "base_uri": "https://localhost:8080/",
          "height": 573
        },
        "id": "4tGPXExEaffw",
        "outputId": "bdba71c9-7f01-4081-d5c5-561ce98190ce"
      },
      "execution_count": 6,
      "outputs": [
        {
          "output_type": "display_data",
          "data": {
            "image/png": "[encoded data removed]",
            "text/plain": [
              "<Figure size 432x288 with 1 Axes>"
            ]
          },
          "metadata": {
            "needs_background": "light"
          }
        },
        {
          "output_type": "display_data",
          "data": {
            "image/png": "[encoded data removed]",
            "text/plain": [
              "<Figure size 432x288 with 1 Axes>"
            ]
          },
          "metadata": {
            "needs_background": "light"
          }
        }
      ]
    },
    {
      "cell_type": "markdown",
      "source": [
        "## 評価\n",
        "\n",
        "モデルの最終評価をevaluateで行う"
      ],
      "metadata": {
        "id": "s_xdJ4oE5_Sy"
      }
    },
    {
      "cell_type": "code",
      "source": [
        "test_loss, test_acc = model.evaluate(test_x[:,:,np.newaxis], test_y)"
      ],
      "metadata": {
        "id": "E9FvTvwy56sA",
        "colab": {
          "base_uri": "https://localhost:8080/"
        },
        "outputId": "d01dd7ec-b1fd-4c17-cf91-0e1f68687bf8"
      },
      "execution_count": 7,
      "outputs": [
        {
          "output_type": "stream",
          "name": "stdout",
          "text": [
            "15/15 [==============================] - 1s 5ms/step - loss: 0.8323 - acc: 0.6484\n"
          ]
        }
      ]
    },
    {
      "cell_type": "markdown",
      "source": [
        "## 保存\n",
        "\n",
        "TensorFlow2 からTensorFlow Liteへのモデル変換\n",
        "\n",
        "https://qiita.com/sn6/items/252b0e201a72d73124a3"
      ],
      "metadata": {
        "id": "i8aaRjIIY2Fg"
      }
    },
    {
      "cell_type": "code",
      "source": [
        "mdl_dir = '/content/drive/My Drive/Colab Notebooks/bitbot/models/prediction'\n",
        "converter = tflite.TFLiteConverter.from_keras_model(model)\n",
        "converter.target_spec.supported_ops = [tflite.OpsSet.TFLITE_BUILTINS, tflite.OpsSet.SELECT_TF_OPS]\n",
        "converter._experimental_lower_tensor_list_ops = False\n",
        "tflmodel = converter.convert()\n",
        "\n",
        "open(mdl_dir + '.tflite', 'wb').write(tflmodel)"
      ],
      "metadata": {
        "colab": {
          "base_uri": "https://localhost:8080/"
        },
        "id": "RA7Vg9EfY1bF",
        "outputId": "7f6ae918-cc78-49a3-9b51-8eaa481747b2"
      },
      "execution_count": 12,
      "outputs": [
        {
          "output_type": "stream",
          "name": "stderr",
          "text": [
            "WARNING:absl:Found untraced functions such as lstm_cell_layer_call_fn, lstm_cell_layer_call_and_return_conditional_losses, lstm_cell_layer_call_fn, lstm_cell_layer_call_and_return_conditional_losses, lstm_cell_layer_call_and_return_conditional_losses while saving (showing 5 of 5). These functions will not be directly callable after loading.\n"
          ]
        },
        {
          "output_type": "stream",
          "name": "stdout",
          "text": [
            "INFO:tensorflow:Assets written to: /tmp/tmplwje3xsh/assets\n"
          ]
        },
        {
          "output_type": "stream",
          "name": "stderr",
          "text": [
            "INFO:tensorflow:Assets written to: /tmp/tmplwje3xsh/assets\n",
            "WARNING:absl:Buffer deduplication procedure will be skipped when flatbuffer library is not properly loaded\n"
          ]
        },
        {
          "output_type": "execute_result",
          "data": {
            "text/plain": [
              "10556"
            ]
          },
          "metadata": {},
          "execution_count": 12
        }
      ]
    }
  ]
}